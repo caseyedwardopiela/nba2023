{
 "cells": [
  {
   "cell_type": "markdown",
   "id": "b028dea6",
   "metadata": {},
   "source": [
    "## Part 1 - Load in Libraries"
   ]
  },
  {
   "cell_type": "code",
   "execution_count": 4,
   "id": "ca252f2c",
   "metadata": {},
   "outputs": [],
   "source": [
    "import streamlit as st\n",
    "import pandas as pd\n",
    "import base64\n",
    "import matplotlib.pyplot as plt\n",
    "import numpy as np"
   ]
  },
  {
   "cell_type": "markdown",
   "id": "46dbc931",
   "metadata": {},
   "source": [
    "## Part 2 - Load Data"
   ]
  },
  {
   "cell_type": "code",
   "execution_count": 11,
   "id": "7bf000ed",
   "metadata": {},
   "outputs": [],
   "source": [
    "df = pd.read_csv('v1_2023_predictions.csv').drop(['Unnamed: 0'], axis = 1)"
   ]
  },
  {
   "cell_type": "markdown",
   "id": "c34c0448",
   "metadata": {},
   "source": [
    "## Part 3 - StreamLit"
   ]
  },
  {
   "cell_type": "code",
   "execution_count": 12,
   "id": "9518176a",
   "metadata": {},
   "outputs": [
    {
     "data": {
      "text/plain": [
       "DeltaGenerator(_root_container=0, _provided_cursor=None, _parent=None, _block_type=None, _form_data=None)"
      ]
     },
     "execution_count": 12,
     "metadata": {},
     "output_type": "execute_result"
    }
   ],
   "source": [
    "st.title('2022-2023 NBA Fantasy Score Predictions')\n",
    "\n",
    "st.markdown(\"\"\"\n",
    "This app pulls historical data from Basketball-Reference.com, including college, international, and regular season stats. After compiling everything,\n",
    "it runs a combination of several machine learning algorithms to predict all of the traditional stats for each player this coming season.\n",
    "\"\"\")\n",
    "\n",
    "st.sidebar.header('User Input Features')\n",
    "\n",
    "# Sidebar - Team Selection\n",
    "sorted_team_unique = sorted( df['Player_Team'].unique() )\n",
    "selected_team = st.sidebar.multiselect('Team', sorted_team_unique, sorted_team_unique)\n",
    "\n",
    "# Filtering data\n",
    "df_selected_team = df[ (df['Player_Team'].isin(selected_team))]\n",
    "\n",
    "st.header('Display Players on Selected Team')\n",
    "st.write('Data Dimension: ' + str(df_selected_team.shape[0]) + ' rows and ' + str(df_selected_team.shape[1]) + ' columns.')\n",
    "st.dataframe(df_selected_team)"
   ]
  },
  {
   "cell_type": "code",
   "execution_count": null,
   "id": "0a79687d",
   "metadata": {},
   "outputs": [],
   "source": []
  }
 ],
 "metadata": {
  "kernelspec": {
   "display_name": "Python 3 (ipykernel)",
   "language": "python",
   "name": "python3"
  },
  "language_info": {
   "codemirror_mode": {
    "name": "ipython",
    "version": 3
   },
   "file_extension": ".py",
   "mimetype": "text/x-python",
   "name": "python",
   "nbconvert_exporter": "python",
   "pygments_lexer": "ipython3",
   "version": "3.9.12"
  }
 },
 "nbformat": 4,
 "nbformat_minor": 5
}
